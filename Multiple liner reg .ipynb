{
 "cells": [
  {
   "cell_type": "markdown",
   "id": "3efad4c7-d34f-44b0-a48d-94651f931bae",
   "metadata": {
    "id": "3efad4c7-d34f-44b0-a48d-94651f931bae"
   },
   "source": [
    "# Activity: Perform multiple linear regression\n"
   ]
  },
  {
   "cell_type": "markdown",
   "id": "2faf7b57-5c13-45e5-b666-d575eff0d17c",
   "metadata": {
    "id": "2faf7b57-5c13-45e5-b666-d575eff0d17c"
   },
   "source": [
    "## Introduction"
   ]
  },
  {
   "cell_type": "markdown",
   "id": "2ca9aca5-33e0-4aa7-acdb-05832b05e5a9",
   "metadata": {
    "id": "2ca9aca5-33e0-4aa7-acdb-05832b05e5a9"
   },
   "source": [
    "### To address the business's request, you'll conduct a multiple linear regression analysis to estimate sales from a combination of independent variables. This will include:\n",
    "\n",
    "* Exploring and cleaning data\n",
    "* Using plots and descriptive statistics to select the independent variables\n",
    "* Creating a fitting multiple linear regression model\n",
    "* Checking model assumptions\n",
    "* Interpreting model outputs and communicating the results to non-technical stakeholders"
   ]
  },
  {
   "cell_type": "markdown",
   "id": "bfcf5ec2-e48b-4443-9bf6-72670bd60041",
   "metadata": {
    "id": "bfcf5ec2-e48b-4443-9bf6-72670bd60041"
   },
   "source": [
    "## Step 1. Relevant Imports"
   ]
  },
  {
   "cell_type": "markdown",
   "id": "9d3f02aa-20dd-4844-baad-c080e7d5c48d",
   "metadata": {
    "id": "9d3f02aa-20dd-4844-baad-c080e7d5c48d"
   },
   "source": [
    "### Import packages"
   ]
  },
  {
   "cell_type": "markdown",
   "id": "7dcaa8a0-4fe8-4816-9ef5-5fc665a4638f",
   "metadata": {
    "id": "7dcaa8a0-4fe8-4816-9ef5-5fc665a4638f"
   },
   "source": [
    "First, import relevant Python libraries and modules."
   ]
  },
  {
   "cell_type": "code",
   "execution_count": 1,
   "id": "b2f4b9fa-b7bd-4b88-8c71-d3af5ddcb906",
   "metadata": {
    "id": "b2f4b9fa-b7bd-4b88-8c71-d3af5ddcb906"
   },
   "outputs": [],
   "source": [
    "# Import libraries and modules\n",
    "import pandas as pd\n",
    "import numpy as np\n",
    "import matplotlib.pyplot as plt\n",
    "import seaborn as sns\n",
    "from statsmodels.formula.api import ols\n",
    "import statsmodels.api as sm\n"
   ]
  },
  {
   "cell_type": "markdown",
   "id": "84d9d20a-4ea9-4f2d-a633-b21420f47eeb",
   "metadata": {
    "id": "84d9d20a-4ea9-4f2d-a633-b21420f47eeb"
   },
   "source": [
    "### Load dataset"
   ]
  },
  {
   "cell_type": "markdown",
   "id": "b05c77e3-9f0f-4245-a683-07be022e2cd6",
   "metadata": {
    "id": "b05c77e3-9f0f-4245-a683-07be022e2cd6"
   },
   "source": [
    "Load the dataset `marketing_and_sales_data.csv` as `data` and display the first five rows. The variables in the dataset have been adjusted to suit the objectives of this lab."
   ]
  },
  {
   "cell_type": "code",
   "execution_count": 2,
   "id": "32d46d82-2bd6-4433-b56e-cfa5542949ca",
   "metadata": {
    "id": "32d46d82-2bd6-4433-b56e-cfa5542949ca"
   },
   "outputs": [
    {
     "data": {
      "text/html": [
       "<div>\n",
       "<style scoped>\n",
       "    .dataframe tbody tr th:only-of-type {\n",
       "        vertical-align: middle;\n",
       "    }\n",
       "\n",
       "    .dataframe tbody tr th {\n",
       "        vertical-align: top;\n",
       "    }\n",
       "\n",
       "    .dataframe thead th {\n",
       "        text-align: right;\n",
       "    }\n",
       "</style>\n",
       "<table border=\"1\" class=\"dataframe\">\n",
       "  <thead>\n",
       "    <tr style=\"text-align: right;\">\n",
       "      <th></th>\n",
       "      <th>TV</th>\n",
       "      <th>Radio</th>\n",
       "      <th>Social Media</th>\n",
       "      <th>Influencer</th>\n",
       "      <th>Sales</th>\n",
       "    </tr>\n",
       "  </thead>\n",
       "  <tbody>\n",
       "    <tr>\n",
       "      <th>0</th>\n",
       "      <td>Low</td>\n",
       "      <td>3.518070</td>\n",
       "      <td>2.293790</td>\n",
       "      <td>Micro</td>\n",
       "      <td>55.261284</td>\n",
       "    </tr>\n",
       "    <tr>\n",
       "      <th>1</th>\n",
       "      <td>Low</td>\n",
       "      <td>7.756876</td>\n",
       "      <td>2.572287</td>\n",
       "      <td>Mega</td>\n",
       "      <td>67.574904</td>\n",
       "    </tr>\n",
       "    <tr>\n",
       "      <th>2</th>\n",
       "      <td>High</td>\n",
       "      <td>20.348988</td>\n",
       "      <td>1.227180</td>\n",
       "      <td>Micro</td>\n",
       "      <td>272.250108</td>\n",
       "    </tr>\n",
       "    <tr>\n",
       "      <th>3</th>\n",
       "      <td>Medium</td>\n",
       "      <td>20.108487</td>\n",
       "      <td>2.728374</td>\n",
       "      <td>Mega</td>\n",
       "      <td>195.102176</td>\n",
       "    </tr>\n",
       "    <tr>\n",
       "      <th>4</th>\n",
       "      <td>High</td>\n",
       "      <td>31.653200</td>\n",
       "      <td>7.776978</td>\n",
       "      <td>Nano</td>\n",
       "      <td>273.960377</td>\n",
       "    </tr>\n",
       "    <tr>\n",
       "      <th>5</th>\n",
       "      <td>Low</td>\n",
       "      <td>5.561586</td>\n",
       "      <td>3.530209</td>\n",
       "      <td>Nano</td>\n",
       "      <td>39.992087</td>\n",
       "    </tr>\n",
       "    <tr>\n",
       "      <th>6</th>\n",
       "      <td>Medium</td>\n",
       "      <td>13.951808</td>\n",
       "      <td>4.477142</td>\n",
       "      <td>Micro</td>\n",
       "      <td>147.150178</td>\n",
       "    </tr>\n",
       "    <tr>\n",
       "      <th>7</th>\n",
       "      <td>Medium</td>\n",
       "      <td>28.352592</td>\n",
       "      <td>4.695376</td>\n",
       "      <td>Mega</td>\n",
       "      <td>229.141912</td>\n",
       "    </tr>\n",
       "    <tr>\n",
       "      <th>8</th>\n",
       "      <td>Medium</td>\n",
       "      <td>15.322175</td>\n",
       "      <td>4.379750</td>\n",
       "      <td>Macro</td>\n",
       "      <td>222.696768</td>\n",
       "    </tr>\n",
       "    <tr>\n",
       "      <th>9</th>\n",
       "      <td>High</td>\n",
       "      <td>26.914287</td>\n",
       "      <td>6.074165</td>\n",
       "      <td>Mega</td>\n",
       "      <td>322.466797</td>\n",
       "    </tr>\n",
       "  </tbody>\n",
       "</table>\n",
       "</div>"
      ],
      "text/plain": [
       "       TV      Radio  Social Media Influencer       Sales\n",
       "0     Low   3.518070      2.293790      Micro   55.261284\n",
       "1     Low   7.756876      2.572287       Mega   67.574904\n",
       "2    High  20.348988      1.227180      Micro  272.250108\n",
       "3  Medium  20.108487      2.728374       Mega  195.102176\n",
       "4    High  31.653200      7.776978       Nano  273.960377\n",
       "5     Low   5.561586      3.530209       Nano   39.992087\n",
       "6  Medium  13.951808      4.477142      Micro  147.150178\n",
       "7  Medium  28.352592      4.695376       Mega  229.141912\n",
       "8  Medium  15.322175      4.379750      Macro  222.696768\n",
       "9    High  26.914287      6.074165       Mega  322.466797"
      ]
     },
     "execution_count": 2,
     "metadata": {},
     "output_type": "execute_result"
    }
   ],
   "source": [
    "# Load the data\n",
    "marketing = pd.read_csv(\"marketing_sales_data.csv\")\n",
    "marketing.head(10)\n",
    "\n",
    "\n",
    "# Display the first five rows\n",
    "\n",
    "### YOUR CODE HERE ### \n",
    "\n"
   ]
  },
  {
   "cell_type": "markdown",
   "id": "c179e85f-20df-4840-ad29-de35b928dff6",
   "metadata": {
    "id": "c179e85f-20df-4840-ad29-de35b928dff6"
   },
   "source": [
    "The features in the data are:\n",
    "* TV promotion budget (in Low, Medium, and High categories)\n",
    "* Social media promotion budget (in millions of dollars)\n",
    "* Radio promotion budget (in millions of dollars)\n",
    "* Sales (in millions of dollars)\n",
    "* Influencer size (in Mega, Macro, Nano, and Micro categories)"
   ]
  },
  {
   "cell_type": "markdown",
   "id": "6db7b19a-dd9b-490a-b389-0c433ed16754",
   "metadata": {
    "id": "6db7b19a-dd9b-490a-b389-0c433ed16754"
   },
   "source": [
    "#### **QUESTION 1: What are some purposes of EDA before constructing a multiple linear regression model?**\n",
    "1. To ubderstand the characteristics of the data: size, data types. How big is it? What data types are there? How many features are there? What kind of label is there?\n",
    "2. To see a Summary statistics of the datasets: what’s the mean, the median, the quantiles, to understand the scale and range of variables\n",
    "3. detect errors and outliers.\n",
    "\n"
   ]
  },
  {
   "cell_type": "markdown",
   "id": "2Kp1icGR4gz3",
   "metadata": {
    "id": "2Kp1icGR4gz3"
   },
   "source": []
  },
  {
   "cell_type": "markdown",
   "id": "fd47ede7-63ff-4fe5-aeb0-b8f909e9ecbe",
   "metadata": {
    "id": "fd47ede7-63ff-4fe5-aeb0-b8f909e9ecbe"
   },
   "source": [
    "## Step 2. Data Exploration"
   ]
  },
  {
   "cell_type": "markdown",
   "id": "3f63f855-1dac-415b-a303-4f66fc39322c",
   "metadata": {
    "id": "3f63f855-1dac-415b-a303-4f66fc39322c"
   },
   "source": [
    "First, create a pairplot to visualize the relationship between the continous variables in `data`."
   ]
  },
  {
   "cell_type": "code",
   "execution_count": 3,
   "id": "518254a6-44d5-45bf-9b57-13ce3a4deab3",
   "metadata": {
    "id": "518254a6-44d5-45bf-9b57-13ce3a4deab3",
    "scrolled": true
   },
   "outputs": [
    {
     "data": {
      "text/plain": [
       "<seaborn.axisgrid.PairGrid at 0x25136109d30>"
      ]
     },
     "execution_count": 3,
     "metadata": {},
     "output_type": "execute_result"
    },
    {
     "data": {
      "image/png": "[encoded data removed]",
      "text/plain": [
       "<Figure size 540x540 with 12 Axes>"
      ]
     },
     "metadata": {
      "needs_background": "light"
     },
     "output_type": "display_data"
    }
   ],
   "source": [
    "# Create a pairplot of the data\n",
    "\n",
    "sns.pairplot(marketing)\n",
    "\n"
   ]
  },
  {
   "cell_type": "markdown",
   "id": "93223044-e133-4d60-ab37-d792ca43c234",
   "metadata": {
    "id": "93223044-e133-4d60-ab37-d792ca43c234"
   },
   "source": [
    "<details>\n",
    "<summary><h4><strong>HINT 1</strong></h4></summary>\n",
    "\n",
    "You can refer back to the material where creating a pairplot is demonstrated.\n",
    "\n",
    "</details>\n"
   ]
  },
  {
   "cell_type": "markdown",
   "id": "fb6bfb6f-35b6-427e-8d58-8ae5f25c5b9f",
   "metadata": {
    "id": "fb6bfb6f-35b6-427e-8d58-8ae5f25c5b9f"
   },
   "source": [
    "<details>\n",
    "<summary><h4><strong>HINT 2</strong></h4></summary>\n",
    "\n",
    "There is a function in the `seaborn` library that allows you to create a pairplot showing the relationships between variables in the data.\n",
    "\n",
    "</details>\n"
   ]
  },
  {
   "cell_type": "markdown",
   "id": "672bccbf-ffc6-4999-8153-12d658341f56",
   "metadata": {
    "id": "672bccbf-ffc6-4999-8153-12d658341f56"
   },
   "source": [
    "<details>\n",
    "<summary><h4><strong>HINT 3</strong></h4></summary>\n",
    "\n",
    "Use the `pairplot()` function from the `seaborn` library and pass in the entire dataframe.\n",
    "\n",
    "</details>\n"
   ]
  },
  {
   "cell_type": "markdown",
   "id": "043e38a8-35fe-4c4e-b278-f3dab9b897da",
   "metadata": {
    "id": "043e38a8-35fe-4c4e-b278-f3dab9b897da"
   },
   "source": [
    "#### **QUESTION 2: Which variables have a linear relationship with `Sales`? Why are some variables in the data excluded from the plot above?**\n"
   ]
  },
  {
   "cell_type": "markdown",
   "id": "90ed6ee8",
   "metadata": {},
   "source": [
    "Radio has a linear relationship with Sales. TV and INfluencer are expempted because they are Categorical variables"
   ]
  },
  {
   "cell_type": "markdown",
   "id": "af82ed3e-be07-47a2-8531-ac759b607dd7",
   "metadata": {
    "id": "af82ed3e-be07-47a2-8531-ac759b607dd7"
   },
   "source": [
    "### Categorical variables"
   ]
  },
  {
   "cell_type": "markdown",
   "id": "63116e2d-3453-478e-a98e-8564ff72829c",
   "metadata": {
    "id": "63116e2d-3453-478e-a98e-8564ff72829c"
   },
   "source": [
    "There are two categorical variables, `TV` and `Influencer`. To characterize the relationship between the categorical variables and `Sales`, find the mean `Sales` for each category in `TV` and the mean `Sales` for each category in`Influencer`. "
   ]
  },
  {
   "cell_type": "code",
   "execution_count": 4,
   "id": "cf770bc2-d2fd-4441-99b0-94ac2e704f90",
   "metadata": {
    "id": "cf770bc2-d2fd-4441-99b0-94ac2e704f90"
   },
   "outputs": [
    {
     "data": {
      "text/plain": [
       "TV\n",
       "High      300.853195\n",
       "Low        90.984101\n",
       "Medium    195.358032\n",
       "Name: Sales, dtype: float64"
      ]
     },
     "execution_count": 4,
     "metadata": {},
     "output_type": "execute_result"
    }
   ],
   "source": [
    "# Calculate the mean Sales for each TV category \n",
    "\n",
    "marketing.groupby(\"TV\")['Sales'].mean()\n"
   ]
  },
  {
   "cell_type": "code",
   "execution_count": 5,
   "id": "fcd81a72",
   "metadata": {},
   "outputs": [
    {
     "data": {
      "text/plain": [
       "Influencer\n",
       "Macro    181.670070\n",
       "Mega     194.487941\n",
       "Micro    188.321846\n",
       "Nano     191.874432\n",
       "Name: Sales, dtype: float64"
      ]
     },
     "execution_count": 5,
     "metadata": {},
     "output_type": "execute_result"
    }
   ],
   "source": [
    "# Calculate the mean Sales for each Influencer category \n",
    "marketing.groupby(\"Influencer\")['Sales'].mean()"
   ]
  },
  {
   "cell_type": "markdown",
   "id": "75cca644-b19a-4a48-b99e-e5261de0ac7c",
   "metadata": {
    "id": "75cca644-b19a-4a48-b99e-e5261de0ac7c"
   },
   "source": [
    "<details>\n",
    "<summary><h4><strong>HINT 1</strong></h4></summary>\n",
    "\n",
    "Find the mean `Sales` when the `TV` promotion is `High`, `Medium`, or `Low`.\n",
    "    \n",
    "Find the mean `Sales` when the `Influencer` promotion is `Macro`, `Mega`, `Micro`, or `Nano`.  \n",
    "\n",
    "</details>"
   ]
  },
  {
   "cell_type": "markdown",
   "id": "66d8f2bb-3eac-487f-8357-ffe1c69fb1a7",
   "metadata": {
    "id": "66d8f2bb-3eac-487f-8357-ffe1c69fb1a7"
   },
   "source": [
    "<details>\n",
    "<summary><h4><strong>HINT 2</strong></h4></summary>\n",
    "\n",
    "The `groupby` operation in `pandas` can be used to split an object (e.g., data) into groups and apply a calculation to each group.\n",
    "\n",
    "</details>"
   ]
  },
  {
   "cell_type": "markdown",
   "id": "84b3354e-a688-469f-9891-677d935eddd2",
   "metadata": {
    "id": "84b3354e-a688-469f-9891-677d935eddd2"
   },
   "source": [
    "<details>\n",
    "<summary><h4><strong>HINT 3</strong></h4></summary>\n",
    "\n",
    "To calculate the mean `Sales` for each `TV` category, group by `TV`, select the `Sales` column, then calculate the mean. \n",
    "    \n",
    "The same logic will apply for calculating the mean `Sales` for each `Influencer` category.\n",
    "\n",
    "</details>"
   ]
  },
  {
   "cell_type": "markdown",
   "id": "e415aa95-0650-47e0-9efd-2770b8dfcb3d",
   "metadata": {
    "id": "e415aa95-0650-47e0-9efd-2770b8dfcb3d"
   },
   "source": [
    "#### **QUESTION 3: What do you notice about the categorical variables? Could they be useful predictors of `Sales`?**\n",
    "\n"
   ]
  },
  {
   "cell_type": "markdown",
   "id": "2-NgZvWJ4ijo",
   "metadata": {
    "id": "2-NgZvWJ4ijo"
   },
   "source": [
    "The TV categories show that High promotion budget had the highest mean, while for the influencer, a Mega influencer had the highest mean. these information could be useful in ptredicting Sales."
   ]
  },
  {
   "cell_type": "markdown",
   "id": "0f4adbee-9d13-400a-99e6-6d4c482b8e17",
   "metadata": {
    "id": "0f4adbee-9d13-400a-99e6-6d4c482b8e17"
   },
   "source": [
    "### Removing missing data\n",
    "\n",
    "As you discovered in prior labs, this dataset contains rows with missing values. \n",
    "\n",
    "To correct this, drop all rows in the data that contain missing data."
   ]
  },
  {
   "cell_type": "code",
   "execution_count": 6,
   "id": "498e546b-e90e-4b84-a7d7-12b3bb514c1d",
   "metadata": {
    "id": "498e546b-e90e-4b84-a7d7-12b3bb514c1d"
   },
   "outputs": [
    {
     "data": {
      "text/html": [
       "<div>\n",
       "<style scoped>\n",
       "    .dataframe tbody tr th:only-of-type {\n",
       "        vertical-align: middle;\n",
       "    }\n",
       "\n",
       "    .dataframe tbody tr th {\n",
       "        vertical-align: top;\n",
       "    }\n",
       "\n",
       "    .dataframe thead th {\n",
       "        text-align: right;\n",
       "    }\n",
       "</style>\n",
       "<table border=\"1\" class=\"dataframe\">\n",
       "  <thead>\n",
       "    <tr style=\"text-align: right;\">\n",
       "      <th></th>\n",
       "      <th>TV</th>\n",
       "      <th>Radio</th>\n",
       "      <th>Social Media</th>\n",
       "      <th>Influencer</th>\n",
       "      <th>Sales</th>\n",
       "    </tr>\n",
       "  </thead>\n",
       "  <tbody>\n",
       "    <tr>\n",
       "      <th>0</th>\n",
       "      <td>Low</td>\n",
       "      <td>3.518070</td>\n",
       "      <td>2.293790</td>\n",
       "      <td>Micro</td>\n",
       "      <td>55.261284</td>\n",
       "    </tr>\n",
       "    <tr>\n",
       "      <th>1</th>\n",
       "      <td>Low</td>\n",
       "      <td>7.756876</td>\n",
       "      <td>2.572287</td>\n",
       "      <td>Mega</td>\n",
       "      <td>67.574904</td>\n",
       "    </tr>\n",
       "    <tr>\n",
       "      <th>2</th>\n",
       "      <td>High</td>\n",
       "      <td>20.348988</td>\n",
       "      <td>1.227180</td>\n",
       "      <td>Micro</td>\n",
       "      <td>272.250108</td>\n",
       "    </tr>\n",
       "    <tr>\n",
       "      <th>3</th>\n",
       "      <td>Medium</td>\n",
       "      <td>20.108487</td>\n",
       "      <td>2.728374</td>\n",
       "      <td>Mega</td>\n",
       "      <td>195.102176</td>\n",
       "    </tr>\n",
       "    <tr>\n",
       "      <th>4</th>\n",
       "      <td>High</td>\n",
       "      <td>31.653200</td>\n",
       "      <td>7.776978</td>\n",
       "      <td>Nano</td>\n",
       "      <td>273.960377</td>\n",
       "    </tr>\n",
       "    <tr>\n",
       "      <th>...</th>\n",
       "      <td>...</td>\n",
       "      <td>...</td>\n",
       "      <td>...</td>\n",
       "      <td>...</td>\n",
       "      <td>...</td>\n",
       "    </tr>\n",
       "    <tr>\n",
       "      <th>567</th>\n",
       "      <td>Medium</td>\n",
       "      <td>14.656633</td>\n",
       "      <td>3.817980</td>\n",
       "      <td>Micro</td>\n",
       "      <td>191.521266</td>\n",
       "    </tr>\n",
       "    <tr>\n",
       "      <th>568</th>\n",
       "      <td>High</td>\n",
       "      <td>28.110171</td>\n",
       "      <td>7.358169</td>\n",
       "      <td>Mega</td>\n",
       "      <td>297.626731</td>\n",
       "    </tr>\n",
       "    <tr>\n",
       "      <th>569</th>\n",
       "      <td>Medium</td>\n",
       "      <td>11.401084</td>\n",
       "      <td>5.818697</td>\n",
       "      <td>Nano</td>\n",
       "      <td>145.416851</td>\n",
       "    </tr>\n",
       "    <tr>\n",
       "      <th>570</th>\n",
       "      <td>Medium</td>\n",
       "      <td>21.119991</td>\n",
       "      <td>5.703028</td>\n",
       "      <td>Macro</td>\n",
       "      <td>209.326830</td>\n",
       "    </tr>\n",
       "    <tr>\n",
       "      <th>571</th>\n",
       "      <td>Low</td>\n",
       "      <td>13.221237</td>\n",
       "      <td>3.660566</td>\n",
       "      <td>Micro</td>\n",
       "      <td>135.773151</td>\n",
       "    </tr>\n",
       "  </tbody>\n",
       "</table>\n",
       "<p>572 rows × 5 columns</p>\n",
       "</div>"
      ],
      "text/plain": [
       "         TV      Radio  Social Media Influencer       Sales\n",
       "0       Low   3.518070      2.293790      Micro   55.261284\n",
       "1       Low   7.756876      2.572287       Mega   67.574904\n",
       "2      High  20.348988      1.227180      Micro  272.250108\n",
       "3    Medium  20.108487      2.728374       Mega  195.102176\n",
       "4      High  31.653200      7.776978       Nano  273.960377\n",
       "..      ...        ...           ...        ...         ...\n",
       "567  Medium  14.656633      3.817980      Micro  191.521266\n",
       "568    High  28.110171      7.358169       Mega  297.626731\n",
       "569  Medium  11.401084      5.818697       Nano  145.416851\n",
       "570  Medium  21.119991      5.703028      Macro  209.326830\n",
       "571     Low  13.221237      3.660566      Micro  135.773151\n",
       "\n",
       "[572 rows x 5 columns]"
      ]
     },
     "execution_count": 6,
     "metadata": {},
     "output_type": "execute_result"
    }
   ],
   "source": [
    "# Drop rows that contain missing data and update the dataframe\n",
    "\n",
    "marketing.dropna(axis = 0)\n",
    "\n"
   ]
  },
  {
   "cell_type": "markdown",
   "id": "e37d7507-1f3d-4432-912e-ced7feff4ac6",
   "metadata": {
    "id": "e37d7507-1f3d-4432-912e-ced7feff4ac6"
   },
   "source": [
    "<details>\n",
    "<summary><h4><strong>HINT 1</strong></h4></summary>\n",
    "\n",
    "There is a `pandas` function that removes missing values.\n",
    "\n",
    "</details>"
   ]
  },
  {
   "cell_type": "markdown",
   "id": "19cd01e1-9976-47f6-b25c-7b8ce2a05627",
   "metadata": {
    "id": "19cd01e1-9976-47f6-b25c-7b8ce2a05627"
   },
   "source": [
    "<details>\n",
    "<summary><h4><strong>HINT 2</strong></h4></summary>\n",
    "\n",
    "The `dropna()` function removes missing values from an object (e.g., DataFrame).\n",
    "\n",
    "</details>"
   ]
  },
  {
   "cell_type": "markdown",
   "id": "87a46eec-9d3e-4657-bf91-6b3bd02089f0",
   "metadata": {
    "id": "87a46eec-9d3e-4657-bf91-6b3bd02089f0"
   },
   "source": [
    "<details>\n",
    "<summary><h4><strong>HINT 3</strong></h4></summary>\n",
    "\n",
    "Use `data.dropna(axis=0)` to drop all rows with missing values in `data`. Be sure to properly update the dataframe.\n",
    "\n",
    "</details>"
   ]
  },
  {
   "cell_type": "markdown",
   "id": "6c77f884-a459-4083-ac2f-abfd2d476f28",
   "metadata": {
    "id": "6c77f884-a459-4083-ac2f-abfd2d476f28"
   },
   "source": [
    "### Cleaning column names"
   ]
  },
  {
   "cell_type": "markdown",
   "id": "f1235ced-59ff-46e0-9120-c52517ec89d1",
   "metadata": {
    "id": "f1235ced-59ff-46e0-9120-c52517ec89d1"
   },
   "source": [
    "The `ols()` function doesn't run when variable names contain a space. \n",
    "\n",
    "Check the column names in `data` do not contain spaces and fix the column names if needed."
   ]
  },
  {
   "cell_type": "code",
   "execution_count": 7,
   "id": "ac28fd29-44d9-4842-9c94-0aa9bd8ebb04",
   "metadata": {
    "id": "ac28fd29-44d9-4842-9c94-0aa9bd8ebb04"
   },
   "outputs": [
    {
     "data": {
      "text/html": [
       "<div>\n",
       "<style scoped>\n",
       "    .dataframe tbody tr th:only-of-type {\n",
       "        vertical-align: middle;\n",
       "    }\n",
       "\n",
       "    .dataframe tbody tr th {\n",
       "        vertical-align: top;\n",
       "    }\n",
       "\n",
       "    .dataframe thead th {\n",
       "        text-align: right;\n",
       "    }\n",
       "</style>\n",
       "<table border=\"1\" class=\"dataframe\">\n",
       "  <thead>\n",
       "    <tr style=\"text-align: right;\">\n",
       "      <th></th>\n",
       "      <th>TV</th>\n",
       "      <th>Radio</th>\n",
       "      <th>Social_Media</th>\n",
       "      <th>Influencer</th>\n",
       "      <th>Sales</th>\n",
       "    </tr>\n",
       "  </thead>\n",
       "  <tbody>\n",
       "    <tr>\n",
       "      <th>0</th>\n",
       "      <td>Low</td>\n",
       "      <td>3.518070</td>\n",
       "      <td>2.293790</td>\n",
       "      <td>Micro</td>\n",
       "      <td>55.261284</td>\n",
       "    </tr>\n",
       "    <tr>\n",
       "      <th>1</th>\n",
       "      <td>Low</td>\n",
       "      <td>7.756876</td>\n",
       "      <td>2.572287</td>\n",
       "      <td>Mega</td>\n",
       "      <td>67.574904</td>\n",
       "    </tr>\n",
       "    <tr>\n",
       "      <th>2</th>\n",
       "      <td>High</td>\n",
       "      <td>20.348988</td>\n",
       "      <td>1.227180</td>\n",
       "      <td>Micro</td>\n",
       "      <td>272.250108</td>\n",
       "    </tr>\n",
       "    <tr>\n",
       "      <th>3</th>\n",
       "      <td>Medium</td>\n",
       "      <td>20.108487</td>\n",
       "      <td>2.728374</td>\n",
       "      <td>Mega</td>\n",
       "      <td>195.102176</td>\n",
       "    </tr>\n",
       "    <tr>\n",
       "      <th>4</th>\n",
       "      <td>High</td>\n",
       "      <td>31.653200</td>\n",
       "      <td>7.776978</td>\n",
       "      <td>Nano</td>\n",
       "      <td>273.960377</td>\n",
       "    </tr>\n",
       "    <tr>\n",
       "      <th>...</th>\n",
       "      <td>...</td>\n",
       "      <td>...</td>\n",
       "      <td>...</td>\n",
       "      <td>...</td>\n",
       "      <td>...</td>\n",
       "    </tr>\n",
       "    <tr>\n",
       "      <th>567</th>\n",
       "      <td>Medium</td>\n",
       "      <td>14.656633</td>\n",
       "      <td>3.817980</td>\n",
       "      <td>Micro</td>\n",
       "      <td>191.521266</td>\n",
       "    </tr>\n",
       "    <tr>\n",
       "      <th>568</th>\n",
       "      <td>High</td>\n",
       "      <td>28.110171</td>\n",
       "      <td>7.358169</td>\n",
       "      <td>Mega</td>\n",
       "      <td>297.626731</td>\n",
       "    </tr>\n",
       "    <tr>\n",
       "      <th>569</th>\n",
       "      <td>Medium</td>\n",
       "      <td>11.401084</td>\n",
       "      <td>5.818697</td>\n",
       "      <td>Nano</td>\n",
       "      <td>145.416851</td>\n",
       "    </tr>\n",
       "    <tr>\n",
       "      <th>570</th>\n",
       "      <td>Medium</td>\n",
       "      <td>21.119991</td>\n",
       "      <td>5.703028</td>\n",
       "      <td>Macro</td>\n",
       "      <td>209.326830</td>\n",
       "    </tr>\n",
       "    <tr>\n",
       "      <th>571</th>\n",
       "      <td>Low</td>\n",
       "      <td>13.221237</td>\n",
       "      <td>3.660566</td>\n",
       "      <td>Micro</td>\n",
       "      <td>135.773151</td>\n",
       "    </tr>\n",
       "  </tbody>\n",
       "</table>\n",
       "<p>572 rows × 5 columns</p>\n",
       "</div>"
      ],
      "text/plain": [
       "         TV      Radio  Social_Media Influencer       Sales\n",
       "0       Low   3.518070      2.293790      Micro   55.261284\n",
       "1       Low   7.756876      2.572287       Mega   67.574904\n",
       "2      High  20.348988      1.227180      Micro  272.250108\n",
       "3    Medium  20.108487      2.728374       Mega  195.102176\n",
       "4      High  31.653200      7.776978       Nano  273.960377\n",
       "..      ...        ...           ...        ...         ...\n",
       "567  Medium  14.656633      3.817980      Micro  191.521266\n",
       "568    High  28.110171      7.358169       Mega  297.626731\n",
       "569  Medium  11.401084      5.818697       Nano  145.416851\n",
       "570  Medium  21.119991      5.703028      Macro  209.326830\n",
       "571     Low  13.221237      3.660566      Micro  135.773151\n",
       "\n",
       "[572 rows x 5 columns]"
      ]
     },
     "execution_count": 7,
     "metadata": {},
     "output_type": "execute_result"
    }
   ],
   "source": [
    "# Rename all columns in data that contain a space \n",
    "\n",
    "marketing.columns = [\"TV\", \"Radio\", \"Social_Media\", \"Influencer\", \"Sales\"]\n",
    "marketing\n",
    "\n"
   ]
  },
  {
   "cell_type": "markdown",
   "id": "f6ee1e20-acb5-4c7a-ac25-bb6891825895",
   "metadata": {
    "id": "f6ee1e20-acb5-4c7a-ac25-bb6891825895"
   },
   "source": [
    "<details>\n",
    "<summary><h4><strong>HINT 1</strong></h4></summary>\n",
    "\n",
    "There is one column name that contains a space. Look for it in `data`.\n",
    "\n",
    "</details>"
   ]
  },
  {
   "cell_type": "markdown",
   "id": "ed1e4f56-c792-4355-bbb3-59da85f67a1e",
   "metadata": {
    "id": "ed1e4f56-c792-4355-bbb3-59da85f67a1e"
   },
   "source": [
    "<details>\n",
    "<summary><h4><strong>HINT 2</strong></h4></summary>\n",
    "\n",
    "The `Social Media` column name in `data` contains a space, which is not allowed in the `ols()` function.\n",
    "\n",
    "</details>"
   ]
  },
  {
   "cell_type": "markdown",
   "id": "e146d3ff-3ab5-4eb7-a789-5e4300ecaf9d",
   "metadata": {
    "id": "e146d3ff-3ab5-4eb7-a789-5e4300ecaf9d"
   },
   "source": [
    "<details>\n",
    "<summary><h4><strong>HINT 3</strong></h4></summary>\n",
    "\n",
    "Use the `rename()` function in `pandas` and use the `columns` argument to provide a new name for `Social Media`.\n",
    "\n",
    "</details>"
   ]
  },
  {
   "cell_type": "markdown",
   "id": "888c90fa-d800-43e4-a692-9fdd576c9b9c",
   "metadata": {
    "id": "888c90fa-d800-43e4-a692-9fdd576c9b9c"
   },
   "source": [
    "## Step 3. Model Building"
   ]
  },
  {
   "cell_type": "markdown",
   "id": "9c906193-db62-4af0-83fa-dffafc347554",
   "metadata": {
    "id": "9c906193-db62-4af0-83fa-dffafc347554"
   },
   "source": [
    "Using the independent variables of your choice, fit a multiple linear regression model that predicts `Sales` using two or more independent variables from `data`."
   ]
  },
  {
   "cell_type": "code",
   "execution_count": 8,
   "id": "76f99341-1ea0-4f1d-a2c7-54e56bd57e38",
   "metadata": {
    "id": "76f99341-1ea0-4f1d-a2c7-54e56bd57e38"
   },
   "outputs": [
    {
     "data": {
      "text/plain": [
       "'Sales ~ C(TV) + Radio + Social_Media + C(Influencer)'"
      ]
     },
     "execution_count": 8,
     "metadata": {},
     "output_type": "execute_result"
    }
   ],
   "source": [
    "# Define the OLS formula\n",
    "\n",
    "ols_formula = \"Sales ~ C(TV) + Radio + Social_Media + C(Influencer)\"\n",
    "ols_formula\n"
   ]
  },
  {
   "cell_type": "code",
   "execution_count": 9,
   "id": "99f35d2e",
   "metadata": {},
   "outputs": [
    {
     "data": {
      "text/plain": [
       "<statsmodels.regression.linear_model.OLS at 0x2513c0f20d0>"
      ]
     },
     "execution_count": 9,
     "metadata": {},
     "output_type": "execute_result"
    }
   ],
   "source": [
    "# Create an OLS model\n",
    "\n",
    "OLS = ols(formula = ols_formula, data = marketing)\n",
    "OLS\n"
   ]
  },
  {
   "cell_type": "code",
   "execution_count": 10,
   "id": "b6d19e74",
   "metadata": {},
   "outputs": [
    {
     "data": {
      "text/plain": [
       "<statsmodels.regression.linear_model.RegressionResultsWrapper at 0x2513d9a0250>"
      ]
     },
     "execution_count": 10,
     "metadata": {},
     "output_type": "execute_result"
    }
   ],
   "source": [
    "# Fit the model\n",
    "\n",
    "model = OLS.fit()\n",
    "model"
   ]
  },
  {
   "cell_type": "code",
   "execution_count": 11,
   "id": "b255e81a",
   "metadata": {},
   "outputs": [],
   "source": [
    "# Save the results summary\n",
    "summary = model.summary()"
   ]
  },
  {
   "cell_type": "code",
   "execution_count": 12,
   "id": "1fbd660d",
   "metadata": {},
   "outputs": [
    {
     "data": {
      "text/html": [
       "<table class=\"simpletable\">\n",
       "<caption>OLS Regression Results</caption>\n",
       "<tr>\n",
       "  <th>Dep. Variable:</th>          <td>Sales</td>      <th>  R-squared:         </th> <td>   0.904</td> \n",
       "</tr>\n",
       "<tr>\n",
       "  <th>Model:</th>                   <td>OLS</td>       <th>  Adj. R-squared:    </th> <td>   0.903</td> \n",
       "</tr>\n",
       "<tr>\n",
       "  <th>Method:</th>             <td>Least Squares</td>  <th>  F-statistic:       </th> <td>   760.4</td> \n",
       "</tr>\n",
       "<tr>\n",
       "  <th>Date:</th>             <td>Fri, 18 Nov 2022</td> <th>  Prob (F-statistic):</th> <td>1.82e-282</td>\n",
       "</tr>\n",
       "<tr>\n",
       "  <th>Time:</th>                 <td>22:09:05</td>     <th>  Log-Likelihood:    </th> <td> -2713.4</td> \n",
       "</tr>\n",
       "<tr>\n",
       "  <th>No. Observations:</th>      <td>   572</td>      <th>  AIC:               </th> <td>   5443.</td> \n",
       "</tr>\n",
       "<tr>\n",
       "  <th>Df Residuals:</th>          <td>   564</td>      <th>  BIC:               </th> <td>   5478.</td> \n",
       "</tr>\n",
       "<tr>\n",
       "  <th>Df Model:</th>              <td>     7</td>      <th>                     </th>     <td> </td>    \n",
       "</tr>\n",
       "<tr>\n",
       "  <th>Covariance Type:</th>      <td>nonrobust</td>    <th>                     </th>     <td> </td>    \n",
       "</tr>\n",
       "</table>\n",
       "<table class=\"simpletable\">\n",
       "<tr>\n",
       "             <td></td>               <th>coef</th>     <th>std err</th>      <th>t</th>      <th>P>|t|</th>  <th>[0.025</th>    <th>0.975]</th>  \n",
       "</tr>\n",
       "<tr>\n",
       "  <th>Intercept</th>              <td>  217.4784</td> <td>    6.584</td> <td>   33.031</td> <td> 0.000</td> <td>  204.546</td> <td>  230.411</td>\n",
       "</tr>\n",
       "<tr>\n",
       "  <th>C(TV)[T.Low]</th>           <td> -154.5736</td> <td>    4.949</td> <td>  -31.231</td> <td> 0.000</td> <td> -164.295</td> <td> -144.852</td>\n",
       "</tr>\n",
       "<tr>\n",
       "  <th>C(TV)[T.Medium]</th>        <td>  -75.5947</td> <td>    3.647</td> <td>  -20.726</td> <td> 0.000</td> <td>  -82.759</td> <td>  -68.431</td>\n",
       "</tr>\n",
       "<tr>\n",
       "  <th>C(Influencer)[T.Mega]</th>  <td>    2.4948</td> <td>    3.462</td> <td>    0.721</td> <td> 0.471</td> <td>   -4.305</td> <td>    9.295</td>\n",
       "</tr>\n",
       "<tr>\n",
       "  <th>C(Influencer)[T.Micro]</th> <td>    2.9391</td> <td>    3.378</td> <td>    0.870</td> <td> 0.385</td> <td>   -3.695</td> <td>    9.574</td>\n",
       "</tr>\n",
       "<tr>\n",
       "  <th>C(Influencer)[T.Nano]</th>  <td>    0.8015</td> <td>    3.346</td> <td>    0.240</td> <td> 0.811</td> <td>   -5.770</td> <td>    7.373</td>\n",
       "</tr>\n",
       "<tr>\n",
       "  <th>Radio</th>                  <td>    2.9735</td> <td>    0.235</td> <td>   12.644</td> <td> 0.000</td> <td>    2.512</td> <td>    3.435</td>\n",
       "</tr>\n",
       "<tr>\n",
       "  <th>Social_Media</th>           <td>   -0.1391</td> <td>    0.676</td> <td>   -0.206</td> <td> 0.837</td> <td>   -1.467</td> <td>    1.189</td>\n",
       "</tr>\n",
       "</table>\n",
       "<table class=\"simpletable\">\n",
       "<tr>\n",
       "  <th>Omnibus:</th>       <td>58.711</td> <th>  Durbin-Watson:     </th> <td>   1.874</td>\n",
       "</tr>\n",
       "<tr>\n",
       "  <th>Prob(Omnibus):</th> <td> 0.000</td> <th>  Jarque-Bera (JB):  </th> <td>  17.802</td>\n",
       "</tr>\n",
       "<tr>\n",
       "  <th>Skew:</th>          <td> 0.057</td> <th>  Prob(JB):          </th> <td>0.000136</td>\n",
       "</tr>\n",
       "<tr>\n",
       "  <th>Kurtosis:</th>      <td> 2.143</td> <th>  Cond. No.          </th> <td>    147.</td>\n",
       "</tr>\n",
       "</table><br/><br/>Notes:<br/>[1] Standard Errors assume that the covariance matrix of the errors is correctly specified."
      ],
      "text/plain": [
       "<class 'statsmodels.iolib.summary.Summary'>\n",
       "\"\"\"\n",
       "                            OLS Regression Results                            \n",
       "==============================================================================\n",
       "Dep. Variable:                  Sales   R-squared:                       0.904\n",
       "Model:                            OLS   Adj. R-squared:                  0.903\n",
       "Method:                 Least Squares   F-statistic:                     760.4\n",
       "Date:                Fri, 18 Nov 2022   Prob (F-statistic):          1.82e-282\n",
       "Time:                        22:09:05   Log-Likelihood:                -2713.4\n",
       "No. Observations:                 572   AIC:                             5443.\n",
       "Df Residuals:                     564   BIC:                             5478.\n",
       "Df Model:                           7                                         \n",
       "Covariance Type:            nonrobust                                         \n",
       "==========================================================================================\n",
       "                             coef    std err          t      P>|t|      [0.025      0.975]\n",
       "------------------------------------------------------------------------------------------\n",
       "Intercept                217.4784      6.584     33.031      0.000     204.546     230.411\n",
       "C(TV)[T.Low]            -154.5736      4.949    -31.231      0.000    -164.295    -144.852\n",
       "C(TV)[T.Medium]          -75.5947      3.647    -20.726      0.000     -82.759     -68.431\n",
       "C(Influencer)[T.Mega]      2.4948      3.462      0.721      0.471      -4.305       9.295\n",
       "C(Influencer)[T.Micro]     2.9391      3.378      0.870      0.385      -3.695       9.574\n",
       "C(Influencer)[T.Nano]      0.8015      3.346      0.240      0.811      -5.770       7.373\n",
       "Radio                      2.9735      0.235     12.644      0.000       2.512       3.435\n",
       "Social_Media              -0.1391      0.676     -0.206      0.837      -1.467       1.189\n",
       "==============================================================================\n",
       "Omnibus:                       58.711   Durbin-Watson:                   1.874\n",
       "Prob(Omnibus):                  0.000   Jarque-Bera (JB):               17.802\n",
       "Skew:                           0.057   Prob(JB):                     0.000136\n",
       "Kurtosis:                       2.143   Cond. No.                         147.\n",
       "==============================================================================\n",
       "\n",
       "Notes:\n",
       "[1] Standard Errors assume that the covariance matrix of the errors is correctly specified.\n",
       "\"\"\""
      ]
     },
     "execution_count": 12,
     "metadata": {},
     "output_type": "execute_result"
    }
   ],
   "source": [
    "# Display the model results\n",
    "\n",
    "summary"
   ]
  },
  {
   "cell_type": "markdown",
   "id": "109e32f5-8193-4961-8245-6b6c09acfe3a",
   "metadata": {
    "id": "109e32f5-8193-4961-8245-6b6c09acfe3a",
    "jp-MarkdownHeadingCollapsed": true,
    "tags": []
   },
   "source": [
    "<details>\n",
    "<summary><h4><strong>HINT 1</strong></h4></summary>\n",
    "\n",
    "You may find it helpful to refer back to the materials that discuss model building for linear regression. \n",
    "\n",
    "</details>"
   ]
  },
  {
   "cell_type": "markdown",
   "id": "49424e08-3472-44f1-a892-63ed80517510",
   "metadata": {
    "id": "49424e08-3472-44f1-a892-63ed80517510"
   },
   "source": [
    "<details>\n",
    "<summary><h4><strong>HINT 2</strong></h4></summary>\n",
    "\n",
    "Use the `ols()` function imported earlier, which creates a model from a formula and dataframe, to create an OLS model.\n",
    "\n",
    "</details>\n"
   ]
  },
  {
   "cell_type": "markdown",
   "id": "0ee5dead-ed62-45d5-ab24-d671d8c3dde4",
   "metadata": {
    "id": "0ee5dead-ed62-45d5-ab24-d671d8c3dde4",
    "jp-MarkdownHeadingCollapsed": true,
    "tags": []
   },
   "source": [
    "<details>\n",
    "<summary><h4><strong>HINT 3</strong></h4></summary>\n",
    "\n",
    "You previously learned how to specify in `ols()` that a feature is categorical. \n",
    "    \n",
    "Be sure the string names for the independent variables exactly match the column names in `data`.\n",
    "\n",
    "</details>"
   ]
  },
  {
   "cell_type": "markdown",
   "id": "1d889a8b-76f5-4f27-833f-a19af27ed8ca",
   "metadata": {
    "id": "1d889a8b-76f5-4f27-833f-a19af27ed8ca",
    "tags": []
   },
   "source": [
    "#### **QUESTION 4: Which independent variables did you choose for the model, and why?**\n",
    "\n"
   ]
  },
  {
   "cell_type": "markdown",
   "id": "OCCzMeFc5CYv",
   "metadata": {
    "id": "OCCzMeFc5CYv"
   },
   "source": [
    "the independent variables choosen are TV, Radio, Influencer vecause they can all be used to predict Sales"
   ]
  },
  {
   "cell_type": "markdown",
   "id": "b4987bee-40ae-4513-95c3-1bec1acdbba9",
   "metadata": {
    "id": "b4987bee-40ae-4513-95c3-1bec1acdbba9",
    "tags": []
   },
   "source": [
    "### Check model assumptions"
   ]
  },
  {
   "cell_type": "markdown",
   "id": "6854af88-7d67-4214-a7df-c6405b46bb47",
   "metadata": {
    "id": "6854af88-7d67-4214-a7df-c6405b46bb47"
   },
   "source": [
    "For multiple linear regression, there is an additional assumption added to the four simple linear regression assumptions: *multicollinearity*. \n",
    "\n",
    "Check that all five multiple linear regression assumptions are upheld for your model."
   ]
  },
  {
   "cell_type": "markdown",
   "id": "72eeb1c7-2f17-44fe-ac3f-71d555c2d81e",
   "metadata": {
    "id": "72eeb1c7-2f17-44fe-ac3f-71d555c2d81e"
   },
   "source": [
    "### Model Assumption - Linearity"
   ]
  },
  {
   "cell_type": "markdown",
   "id": "6f042e3e-ba44-4f93-b37d-421cf93d560f",
   "metadata": {
    "id": "6f042e3e-ba44-4f93-b37d-421cf93d560f"
   },
   "source": [
    "Create scatterplots comparing the continuous independent variable(s) you selected above with `Sales` to check the linearity assumption.\n",
    "\n",
    "**Note:** You can use the pairplot you created earlier to verify the linearity assumption or you can create new scatterplots comparing the variables of interest."
   ]
  },
  {
   "cell_type": "code",
   "execution_count": 13,
   "id": "52036579-1a91-4250-966e-035fc0371f8f",
   "metadata": {
    "id": "52036579-1a91-4250-966e-035fc0371f8f",
    "scrolled": false
   },
   "outputs": [
    {
     "data": {
      "image/png": "[encoded data removed]",
      "text/plain": [
       "<Figure size 432x288 with 1 Axes>"
      ]
     },
     "metadata": {
      "needs_background": "light"
     },
     "output_type": "display_data"
    }
   ],
   "source": [
    "# Create a scatterplot for each independent variable and the dependent variable\n",
    "\n",
    "plt.scatter(marketing[\"Radio\"], marketing[\"Sales\"])\n",
    "plt.title(\"Scatterplot of Radio and Sales\")\n",
    "plt.xlabel(\"Radio\")\n",
    "plt.ylabel(\"Sales\")\n",
    "plt.show()\n",
    "\n"
   ]
  },
  {
   "cell_type": "code",
   "execution_count": 14,
   "id": "53724362",
   "metadata": {},
   "outputs": [
    {
     "data": {
      "image/png": "[encoded data removed]",
      "text/plain": [
       "<Figure size 432x288 with 1 Axes>"
      ]
     },
     "metadata": {
      "needs_background": "light"
     },
     "output_type": "display_data"
    }
   ],
   "source": [
    "plt.scatter(marketing[\"Social_Media\"], marketing[\"Sales\"])\n",
    "plt.title(\"Scatterplot of TV and Social_Media\")\n",
    "plt.xlabel(\"Social_Media\")\n",
    "plt.ylabel(\"Sales\")\n",
    "plt.show()"
   ]
  },
  {
   "cell_type": "markdown",
   "id": "330dc5d1-2013-484b-b2aa-15ec71ee68a4",
   "metadata": {
    "id": "330dc5d1-2013-484b-b2aa-15ec71ee68a4"
   },
   "source": [
    "<details>\n",
    "<summary><h4><strong>HINT 1</strong></h4></summary>\n",
    "\n",
    "There is a function in the `seaborn` library that allows you to create a scatterplot to display the values for two variables.\n",
    "\n",
    "</details>"
   ]
  },
  {
   "cell_type": "markdown",
   "id": "a247c7c5-f32b-4829-97a6-f745bbac3b70",
   "metadata": {
    "id": "a247c7c5-f32b-4829-97a6-f745bbac3b70"
   },
   "source": [
    "<details>\n",
    "<summary><h4><strong>HINT 2</strong></h4></summary>\n",
    "\n",
    "Use the `scatterplot()` function in `seaborn`.\n",
    "\n",
    "</details>"
   ]
  },
  {
   "cell_type": "markdown",
   "id": "4d1b8824-781d-4e8d-a2ba-e2658d7751e0",
   "metadata": {
    "id": "4d1b8824-781d-4e8d-a2ba-e2658d7751e0"
   },
   "source": [
    "<details>\n",
    "<summary><h4><strong>HINT 3</strong></h4></summary>\n",
    "    \n",
    "Pass the independent and dependent variables in your model as the arguments for `x` and `y`, respectively, in the `scatterplot()` function. Do this for each continous independent variable in your model.\n",
    "\n",
    "</details>"
   ]
  },
  {
   "cell_type": "markdown",
   "id": "66de8f0b-fd6b-456f-add6-f893dc33d911",
   "metadata": {
    "id": "66de8f0b-fd6b-456f-add6-f893dc33d911"
   },
   "source": [
    "#### **QUESTION 5: Is the linearity assumption met?**\n",
    "The linearity assumption was met as the independent vaiables have a linear relationship with the dependent variable\n"
   ]
  },
  {
   "cell_type": "markdown",
   "id": "892bb8a6-c4e1-4439-96bb-53125d509492",
   "metadata": {
    "id": "892bb8a6-c4e1-4439-96bb-53125d509492"
   },
   "source": [
    "### Model Assumption - Independence"
   ]
  },
  {
   "cell_type": "markdown",
   "id": "feeb314a-bbbe-4e9a-8561-2f8af0cd172e",
   "metadata": {
    "id": "feeb314a-bbbe-4e9a-8561-2f8af0cd172e"
   },
   "source": [
    "The independent observation assumption states that each observation in the dataset is independent. As each marketing promotion (i.e., row) is independent from one another, the independence assumption is not violated."
   ]
  },
  {
   "cell_type": "markdown",
   "id": "59e4bb03-4ea6-4954-9ebc-3cc0d98eb0b0",
   "metadata": {
    "id": "59e4bb03-4ea6-4954-9ebc-3cc0d98eb0b0"
   },
   "source": [
    "### Model Assumption - Normality"
   ]
  },
  {
   "cell_type": "markdown",
   "id": "bcccf5c8-3325-4b1e-b491-f151bea5ab1c",
   "metadata": {
    "id": "bcccf5c8-3325-4b1e-b491-f151bea5ab1c"
   },
   "source": [
    "Create the following plots to check the normality assumption:\n",
    "* **Plot 1**: Histogram of the residuals\n",
    "* **Plot 2**: QQ plot of the residuals"
   ]
  },
  {
   "cell_type": "code",
   "execution_count": 15,
   "id": "f533df4f",
   "metadata": {},
   "outputs": [],
   "source": [
    "# Calculate the residuals\n",
    "residuals = model.resid"
   ]
  },
  {
   "cell_type": "code",
   "execution_count": 16,
   "id": "fb79ad4f",
   "metadata": {
    "scrolled": true
   },
   "outputs": [
    {
     "data": {
      "image/png": "[encoded data removed]",
      "text/plain": [
       "<Figure size 432x288 with 1 Axes>"
      ]
     },
     "metadata": {
      "needs_background": "light"
     },
     "output_type": "display_data"
    }
   ],
   "source": [
    "# Create a histogram with the residuals \n",
    "residuals = model.resid\n",
    "\n",
    "plt.hist(residuals)\n",
    "plt.title(\"Distribution of the Residuals\")\n",
    "plt.xlabel(\"Residual Value\")\n",
    "plt.ylabel(\"Count\")\n",
    "plt.show()"
   ]
  },
  {
   "cell_type": "code",
   "execution_count": 17,
   "id": "75a71cc6",
   "metadata": {},
   "outputs": [
    {
     "data": {
      "image/png": "[encoded data removed]",
      "text/plain": [
       "<Figure size 432x288 with 1 Axes>"
      ]
     },
     "metadata": {
      "needs_background": "light"
     },
     "output_type": "display_data"
    }
   ],
   "source": [
    "# Create a QQ plot of the residuals\n",
    "sm.qqplot(residuals, line='s')\n",
    "plt.title(\"Q-Q Plot of Residuals\")\n",
    "plt.show()"
   ]
  },
  {
   "cell_type": "markdown",
   "id": "39538404-e292-4564-b361-46353fc8e3f0",
   "metadata": {
    "id": "39538404-e292-4564-b361-46353fc8e3f0",
    "jp-MarkdownHeadingCollapsed": true,
    "tags": []
   },
   "source": [
    "<details>\n",
    "<summary><h4><strong>HINT 1</strong></h4></summary>\n",
    "\n",
    "You can access the residuals from the fit model object.\n",
    "\n",
    "</details>"
   ]
  },
  {
   "cell_type": "markdown",
   "id": "689dabc4-ad48-4c9e-976e-b70520801385",
   "metadata": {
    "id": "689dabc4-ad48-4c9e-976e-b70520801385"
   },
   "source": [
    "<details>\n",
    "<summary><h4><strong>HINT 2</strong></h4></summary>\n",
    "\n",
    "Use `model.resid` to get the residuals from a fit model called `model`.\n",
    "\n",
    "</details>"
   ]
  },
  {
   "cell_type": "markdown",
   "id": "562f868e-45e4-464a-a47e-9f1ed735d6a4",
   "metadata": {
    "id": "562f868e-45e4-464a-a47e-9f1ed735d6a4"
   },
   "source": [
    "<details>\n",
    "<summary><h4><strong>HINT 3</strong></h4></summary>\n",
    "\n",
    "For the histogram, pass the residuals as the first argument in the `seaborn` `histplot()` function.\n",
    "    \n",
    "For the QQ-plot, pass the residuals as the first argument in the `statsmodels` `qqplot()` function.\n",
    "\n",
    "</details>"
   ]
  },
  {
   "cell_type": "markdown",
   "id": "e41f4dd7-5501-43b7-b684-58bad8ff61fb",
   "metadata": {
    "id": "e41f4dd7-5501-43b7-b684-58bad8ff61fb"
   },
   "source": [
    "#### **QUESTION 6: Is the normality assumption met?**\n",
    "\n"
   ]
  },
  {
   "cell_type": "markdown",
   "id": "lDtSuMov5R6F",
   "metadata": {
    "id": "lDtSuMov5R6F"
   },
   "source": [
    "YES because the histogram shows a bell shape and the points on the QQ plot appear to be on a straight line "
   ]
  },
  {
   "cell_type": "markdown",
   "id": "aee36b49-b0e4-4d86-9ca0-c12ec6ffe74d",
   "metadata": {
    "id": "aee36b49-b0e4-4d86-9ca0-c12ec6ffe74d"
   },
   "source": [
    "### Model Assumption - Constant Variance"
   ]
  },
  {
   "cell_type": "markdown",
   "id": "be83ac10-d1d0-4b94-88de-5de424528547",
   "metadata": {
    "id": "be83ac10-d1d0-4b94-88de-5de424528547"
   },
   "source": [
    "Check the constant variance assumption is not violated by creating a scatter plot with the fitted values and residuals. Add a line at $y = 0$ to visualize the variance of residuals above and below $y = 0$."
   ]
  },
  {
   "cell_type": "code",
   "execution_count": 25,
   "id": "efcd0325-b3a0-42d1-ad57-38f10800c35e",
   "metadata": {
    "id": "efcd0325-b3a0-42d1-ad57-38f10800c35e"
   },
   "outputs": [
    {
     "data": {
      "image/png": "[encoded data removed]",
      "text/plain": [
       "<Figure size 432x288 with 1 Axes>"
      ]
     },
     "metadata": {
      "needs_background": "light"
     },
     "output_type": "display_data"
    }
   ],
   "source": [
    "# Create a scatter plot with the fitted values from the model and the residuals\n",
    "X = marketing[[\"TV\", \"Radio\", \"Social_Media\", \"Influencer\"]]\n",
    "fitted_values = model.predict(X)\n",
    "\n",
    "# Add a line at y = 0 to visualize the variance of residuals above and below 0.\n",
    "\n",
    "plt.scatter(fitted_values, residuals)\n",
    "plt.axhline(0)\n",
    "plt.title(\"Scatterplot of Residuals over Fitted Values\")\n",
    "plt.xlabel(\"Fitted Values\")\n",
    "plt.ylabel(\"Residuals\")\n",
    "plt.show()\n",
    "\n"
   ]
  },
  {
   "cell_type": "markdown",
   "id": "662f104d-0977-498f-8159-501063f3c3fc",
   "metadata": {
    "id": "662f104d-0977-498f-8159-501063f3c3fc"
   },
   "source": [
    "<details>\n",
    "<summary><h4><strong>HINT 1</strong></h4></summary>\n",
    "\n",
    "You can access the fitted values from the model object fit earlier.\n",
    "\n",
    "</details>"
   ]
  },
  {
   "cell_type": "markdown",
   "id": "b0a3d26c-1e80-46e3-849a-d7f054cffb52",
   "metadata": {
    "id": "b0a3d26c-1e80-46e3-849a-d7f054cffb52"
   },
   "source": [
    "<details>\n",
    "<summary><h4><strong>HINT 2</strong></h4></summary>\n",
    "\n",
    "Use `model.fittedvalues` to get the fitted values from a fit model called `model`.\n",
    "\n",
    "</details>"
   ]
  },
  {
   "cell_type": "markdown",
   "id": "5830cbfc-9204-42a6-b24f-3cf1334ff41e",
   "metadata": {
    "id": "5830cbfc-9204-42a6-b24f-3cf1334ff41e"
   },
   "source": [
    "<details>\n",
    "<summary><h4><strong>HINT 3</strong></h4></summary>\n",
    "\n",
    "\n",
    "Call the `scatterplot()` function from the `seaborn` library and pass in the fitted values and residuals.\n",
    "    \n",
    "Add a line to a figure using the `axline()` function.\n",
    "\n",
    "</details>"
   ]
  },
  {
   "cell_type": "markdown",
   "id": "8318f726-369c-446a-acad-85117e43459b",
   "metadata": {
    "id": "8318f726-369c-446a-acad-85117e43459b"
   },
   "source": [
    "#### **QUESTION 7: Is the homoscedasticity assumption met?**\n",
    "\n",
    "\n"
   ]
  },
  {
   "cell_type": "markdown",
   "id": "Z_L3I-zc5QQk",
   "metadata": {
    "id": "Z_L3I-zc5QQk"
   },
   "source": [
    "YES this is because the variance where there are fitted values is similarly distributed, indicating equal or similar variance"
   ]
  },
  {
   "cell_type": "markdown",
   "id": "1689e730-9973-4574-bf9f-6fba303c4cc4",
   "metadata": {
    "id": "1689e730-9973-4574-bf9f-6fba303c4cc4"
   },
   "source": [
    "### Model Assumption - Multicollinearity"
   ]
  },
  {
   "cell_type": "markdown",
   "id": "f53a057f-7f7a-446e-826f-4f3383145453",
   "metadata": {
    "id": "f53a057f-7f7a-446e-826f-4f3383145453"
   },
   "source": [
    "The *no multicollinearity* assumption states that no two independent variables ($X_i$ and $X_j$) can be highly correlated with each other. \n",
    "\n",
    "Two common ways to check for multicollinearity are to:\n",
    "* Create scatterplots to show the relationship between pairs of independent variables\n",
    "* Use the variance inflation factor to detect multicollinearity\n",
    "\n",
    "Use one of these two methods to check your model's no multicollinearity assumption."
   ]
  },
  {
   "cell_type": "code",
   "execution_count": 26,
   "id": "0609c527-fb44-4b79-927d-6e75c4510e8d",
   "metadata": {
    "id": "0609c527-fb44-4b79-927d-6e75c4510e8d"
   },
   "outputs": [
    {
     "data": {
      "text/plain": [
       "<seaborn.axisgrid.PairGrid at 0x25143318a30>"
      ]
     },
     "execution_count": 26,
     "metadata": {},
     "output_type": "execute_result"
    },
    {
     "data": {
      "image/png": "[encoded data removed]",
      "text/plain": [
       "<Figure size 540x540 with 12 Axes>"
      ]
     },
     "metadata": {
      "needs_background": "light"
     },
     "output_type": "display_data"
    }
   ],
   "source": [
    "# Create a pairplot of the data\n",
    "\n",
    "sns.pairplot(marketing)\n",
    "\n"
   ]
  },
  {
   "cell_type": "code",
   "execution_count": null,
   "id": "607a7bd6-4480-48f2-ba71-81a412b336ce",
   "metadata": {
    "id": "607a7bd6-4480-48f2-ba71-81a412b336ce"
   },
   "outputs": [],
   "source": [
    "# Calculate the variance inflation factor (optional)\n",
    "\n",
    "### YOUR CODE HERE ### \n",
    "\n"
   ]
  },
  {
   "cell_type": "markdown",
   "id": "QZfT5vHPqjQ8",
   "metadata": {
    "id": "QZfT5vHPqjQ8",
    "jp-MarkdownHeadingCollapsed": true,
    "tags": []
   },
   "source": [
    "<details>\n",
    "<summary><h4><strong>HINT 1</strong></h4></summary>\n",
    "\n",
    "Refer to the material where creating plots for check the no multicollinearity assumption was introduced.\n",
    "\n",
    "</details>"
   ]
  },
  {
   "cell_type": "markdown",
   "id": "483b5bb6-8459-4407-abb0-fddc775c5c36",
   "metadata": {
    "id": "483b5bb6-8459-4407-abb0-fddc775c5c36"
   },
   "source": [
    "<details>\n",
    "<summary><h4><strong>HINT 2</strong></h4></summary>\n",
    "\n",
    "The `pairplot()` function applied earlier to `data` plots the relationship between all continous variables, e.g., between `Radio` and `Social Media`.\n",
    "\n",
    "</details>"
   ]
  },
  {
   "cell_type": "markdown",
   "id": "8958c9dd-11ac-4648-a3ee-07f9887966fe",
   "metadata": {
    "id": "8958c9dd-11ac-4648-a3ee-07f9887966fe"
   },
   "source": [
    "<details>\n",
    "<summary><h4><strong>HINT 3</strong></h4></summary>\n",
    "\n",
    "The `statsmodels` library has a function to calculate the variance inflation factor called `variance_inflation_factor()`. \n",
    "    \n",
    "When using this function, subset the data to only include the continous independent variables, i.e., `Radio` and `Social Media`. Refer to external tutorials on how to apply the variance inflation factor function mentioned above.\n",
    " \n",
    "\n",
    "</details>"
   ]
  },
  {
   "cell_type": "markdown",
   "id": "742acde3-9164-4b55-b711-6339e874a37c",
   "metadata": {
    "id": "742acde3-9164-4b55-b711-6339e874a37c"
   },
   "source": [
    "#### **QUESTION 8: Is the no multicollinearity assumption met?**\n",
    "\n"
   ]
  },
  {
   "cell_type": "markdown",
   "id": "84373d80-2129-4124-85fa-85871671004b",
   "metadata": {
    "id": "84373d80-2129-4124-85fa-85871671004b"
   },
   "source": [
    "## Step 4. Results and Evaluation"
   ]
  },
  {
   "cell_type": "markdown",
   "id": "30f5a3e8-a446-4a64-a0cb-4a512a367111",
   "metadata": {
    "id": "30f5a3e8-a446-4a64-a0cb-4a512a367111"
   },
   "source": [
    "If the linearity assumptions are met, the model results can be appropriately interpreted.\n",
    "\n",
    "First, display the OLS Regression Results."
   ]
  },
  {
   "cell_type": "code",
   "execution_count": 36,
   "id": "7d0bfc27-05f7-4cfa-9aa1-8e2110eabd69",
   "metadata": {
    "id": "7d0bfc27-05f7-4cfa-9aa1-8e2110eabd69"
   },
   "outputs": [
    {
     "data": {
      "text/html": [
       "<table class=\"simpletable\">\n",
       "<caption>OLS Regression Results</caption>\n",
       "<tr>\n",
       "  <th>Dep. Variable:</th>          <td>Sales</td>      <th>  R-squared:         </th> <td>   0.904</td> \n",
       "</tr>\n",
       "<tr>\n",
       "  <th>Model:</th>                   <td>OLS</td>       <th>  Adj. R-squared:    </th> <td>   0.903</td> \n",
       "</tr>\n",
       "<tr>\n",
       "  <th>Method:</th>             <td>Least Squares</td>  <th>  F-statistic:       </th> <td>   760.4</td> \n",
       "</tr>\n",
       "<tr>\n",
       "  <th>Date:</th>             <td>Fri, 18 Nov 2022</td> <th>  Prob (F-statistic):</th> <td>1.82e-282</td>\n",
       "</tr>\n",
       "<tr>\n",
       "  <th>Time:</th>                 <td>23:12:55</td>     <th>  Log-Likelihood:    </th> <td> -2713.4</td> \n",
       "</tr>\n",
       "<tr>\n",
       "  <th>No. Observations:</th>      <td>   572</td>      <th>  AIC:               </th> <td>   5443.</td> \n",
       "</tr>\n",
       "<tr>\n",
       "  <th>Df Residuals:</th>          <td>   564</td>      <th>  BIC:               </th> <td>   5478.</td> \n",
       "</tr>\n",
       "<tr>\n",
       "  <th>Df Model:</th>              <td>     7</td>      <th>                     </th>     <td> </td>    \n",
       "</tr>\n",
       "<tr>\n",
       "  <th>Covariance Type:</th>      <td>nonrobust</td>    <th>                     </th>     <td> </td>    \n",
       "</tr>\n",
       "</table>\n",
       "<table class=\"simpletable\">\n",
       "<tr>\n",
       "             <td></td>               <th>coef</th>     <th>std err</th>      <th>t</th>      <th>P>|t|</th>  <th>[0.025</th>    <th>0.975]</th>  \n",
       "</tr>\n",
       "<tr>\n",
       "  <th>Intercept</th>              <td>  217.4784</td> <td>    6.584</td> <td>   33.031</td> <td> 0.000</td> <td>  204.546</td> <td>  230.411</td>\n",
       "</tr>\n",
       "<tr>\n",
       "  <th>C(TV)[T.Low]</th>           <td> -154.5736</td> <td>    4.949</td> <td>  -31.231</td> <td> 0.000</td> <td> -164.295</td> <td> -144.852</td>\n",
       "</tr>\n",
       "<tr>\n",
       "  <th>C(TV)[T.Medium]</th>        <td>  -75.5947</td> <td>    3.647</td> <td>  -20.726</td> <td> 0.000</td> <td>  -82.759</td> <td>  -68.431</td>\n",
       "</tr>\n",
       "<tr>\n",
       "  <th>C(Influencer)[T.Mega]</th>  <td>    2.4948</td> <td>    3.462</td> <td>    0.721</td> <td> 0.471</td> <td>   -4.305</td> <td>    9.295</td>\n",
       "</tr>\n",
       "<tr>\n",
       "  <th>C(Influencer)[T.Micro]</th> <td>    2.9391</td> <td>    3.378</td> <td>    0.870</td> <td> 0.385</td> <td>   -3.695</td> <td>    9.574</td>\n",
       "</tr>\n",
       "<tr>\n",
       "  <th>C(Influencer)[T.Nano]</th>  <td>    0.8015</td> <td>    3.346</td> <td>    0.240</td> <td> 0.811</td> <td>   -5.770</td> <td>    7.373</td>\n",
       "</tr>\n",
       "<tr>\n",
       "  <th>Radio</th>                  <td>    2.9735</td> <td>    0.235</td> <td>   12.644</td> <td> 0.000</td> <td>    2.512</td> <td>    3.435</td>\n",
       "</tr>\n",
       "<tr>\n",
       "  <th>Social_Media</th>           <td>   -0.1391</td> <td>    0.676</td> <td>   -0.206</td> <td> 0.837</td> <td>   -1.467</td> <td>    1.189</td>\n",
       "</tr>\n",
       "</table>\n",
       "<table class=\"simpletable\">\n",
       "<tr>\n",
       "  <th>Omnibus:</th>       <td>58.711</td> <th>  Durbin-Watson:     </th> <td>   1.874</td>\n",
       "</tr>\n",
       "<tr>\n",
       "  <th>Prob(Omnibus):</th> <td> 0.000</td> <th>  Jarque-Bera (JB):  </th> <td>  17.802</td>\n",
       "</tr>\n",
       "<tr>\n",
       "  <th>Skew:</th>          <td> 0.057</td> <th>  Prob(JB):          </th> <td>0.000136</td>\n",
       "</tr>\n",
       "<tr>\n",
       "  <th>Kurtosis:</th>      <td> 2.143</td> <th>  Cond. No.          </th> <td>    147.</td>\n",
       "</tr>\n",
       "</table><br/><br/>Notes:<br/>[1] Standard Errors assume that the covariance matrix of the errors is correctly specified."
      ],
      "text/plain": [
       "<class 'statsmodels.iolib.summary.Summary'>\n",
       "\"\"\"\n",
       "                            OLS Regression Results                            \n",
       "==============================================================================\n",
       "Dep. Variable:                  Sales   R-squared:                       0.904\n",
       "Model:                            OLS   Adj. R-squared:                  0.903\n",
       "Method:                 Least Squares   F-statistic:                     760.4\n",
       "Date:                Fri, 18 Nov 2022   Prob (F-statistic):          1.82e-282\n",
       "Time:                        23:12:55   Log-Likelihood:                -2713.4\n",
       "No. Observations:                 572   AIC:                             5443.\n",
       "Df Residuals:                     564   BIC:                             5478.\n",
       "Df Model:                           7                                         \n",
       "Covariance Type:            nonrobust                                         \n",
       "==========================================================================================\n",
       "                             coef    std err          t      P>|t|      [0.025      0.975]\n",
       "------------------------------------------------------------------------------------------\n",
       "Intercept                217.4784      6.584     33.031      0.000     204.546     230.411\n",
       "C(TV)[T.Low]            -154.5736      4.949    -31.231      0.000    -164.295    -144.852\n",
       "C(TV)[T.Medium]          -75.5947      3.647    -20.726      0.000     -82.759     -68.431\n",
       "C(Influencer)[T.Mega]      2.4948      3.462      0.721      0.471      -4.305       9.295\n",
       "C(Influencer)[T.Micro]     2.9391      3.378      0.870      0.385      -3.695       9.574\n",
       "C(Influencer)[T.Nano]      0.8015      3.346      0.240      0.811      -5.770       7.373\n",
       "Radio                      2.9735      0.235     12.644      0.000       2.512       3.435\n",
       "Social_Media              -0.1391      0.676     -0.206      0.837      -1.467       1.189\n",
       "==============================================================================\n",
       "Omnibus:                       58.711   Durbin-Watson:                   1.874\n",
       "Prob(Omnibus):                  0.000   Jarque-Bera (JB):               17.802\n",
       "Skew:                           0.057   Prob(JB):                     0.000136\n",
       "Kurtosis:                       2.143   Cond. No.                         147.\n",
       "==============================================================================\n",
       "\n",
       "Notes:\n",
       "[1] Standard Errors assume that the covariance matrix of the errors is correctly specified.\n",
       "\"\"\""
      ]
     },
     "execution_count": 36,
     "metadata": {},
     "output_type": "execute_result"
    }
   ],
   "source": [
    "# Display the model results summary\n",
    "\n",
    "model.summary()\n",
    "\n"
   ]
  },
  {
   "cell_type": "markdown",
   "id": "b29062e1-5c7f-4a78-b782-a07236bbcc28",
   "metadata": {
    "id": "b29062e1-5c7f-4a78-b782-a07236bbcc28"
   },
   "source": [
    "#### **QUESTION 9:  What is your interpretation of the model's R-squared?**\n",
    "\n"
   ]
  },
  {
   "cell_type": "markdown",
   "id": "zfGBVqxU5TTd",
   "metadata": {
    "id": "zfGBVqxU5TTd"
   },
   "source": [
    "R squared is = 0.904. this means that 90.4% of the variation in Sales is explained by the model."
   ]
  },
  {
   "cell_type": "markdown",
   "id": "39504539-44c5-4d88-bfb1-7fd9a8c0c8d9",
   "metadata": {
    "id": "39504539-44c5-4d88-bfb1-7fd9a8c0c8d9"
   },
   "source": [
    "### Interpreting model coefficients"
   ]
  },
  {
   "cell_type": "markdown",
   "id": "d1bcd73c-449d-4bd8-8f70-91e27e577c2f",
   "metadata": {
    "id": "d1bcd73c-449d-4bd8-8f70-91e27e577c2f"
   },
   "source": [
    "With the model fit evaluated, you can look at the coefficient estimates and the uncertainty of these estimates.\n",
    "\n",
    "Again, display the OLS Regression Results."
   ]
  },
  {
   "cell_type": "code",
   "execution_count": 37,
   "id": "083b952e-deca-4532-acdb-e2113880751e",
   "metadata": {
    "id": "083b952e-deca-4532-acdb-e2113880751e"
   },
   "outputs": [
    {
     "data": {
      "text/html": [
       "<table class=\"simpletable\">\n",
       "<caption>OLS Regression Results</caption>\n",
       "<tr>\n",
       "  <th>Dep. Variable:</th>          <td>Sales</td>      <th>  R-squared:         </th> <td>   0.904</td> \n",
       "</tr>\n",
       "<tr>\n",
       "  <th>Model:</th>                   <td>OLS</td>       <th>  Adj. R-squared:    </th> <td>   0.903</td> \n",
       "</tr>\n",
       "<tr>\n",
       "  <th>Method:</th>             <td>Least Squares</td>  <th>  F-statistic:       </th> <td>   760.4</td> \n",
       "</tr>\n",
       "<tr>\n",
       "  <th>Date:</th>             <td>Fri, 18 Nov 2022</td> <th>  Prob (F-statistic):</th> <td>1.82e-282</td>\n",
       "</tr>\n",
       "<tr>\n",
       "  <th>Time:</th>                 <td>23:19:19</td>     <th>  Log-Likelihood:    </th> <td> -2713.4</td> \n",
       "</tr>\n",
       "<tr>\n",
       "  <th>No. Observations:</th>      <td>   572</td>      <th>  AIC:               </th> <td>   5443.</td> \n",
       "</tr>\n",
       "<tr>\n",
       "  <th>Df Residuals:</th>          <td>   564</td>      <th>  BIC:               </th> <td>   5478.</td> \n",
       "</tr>\n",
       "<tr>\n",
       "  <th>Df Model:</th>              <td>     7</td>      <th>                     </th>     <td> </td>    \n",
       "</tr>\n",
       "<tr>\n",
       "  <th>Covariance Type:</th>      <td>nonrobust</td>    <th>                     </th>     <td> </td>    \n",
       "</tr>\n",
       "</table>\n",
       "<table class=\"simpletable\">\n",
       "<tr>\n",
       "             <td></td>               <th>coef</th>     <th>std err</th>      <th>t</th>      <th>P>|t|</th>  <th>[0.025</th>    <th>0.975]</th>  \n",
       "</tr>\n",
       "<tr>\n",
       "  <th>Intercept</th>              <td>  217.4784</td> <td>    6.584</td> <td>   33.031</td> <td> 0.000</td> <td>  204.546</td> <td>  230.411</td>\n",
       "</tr>\n",
       "<tr>\n",
       "  <th>C(TV)[T.Low]</th>           <td> -154.5736</td> <td>    4.949</td> <td>  -31.231</td> <td> 0.000</td> <td> -164.295</td> <td> -144.852</td>\n",
       "</tr>\n",
       "<tr>\n",
       "  <th>C(TV)[T.Medium]</th>        <td>  -75.5947</td> <td>    3.647</td> <td>  -20.726</td> <td> 0.000</td> <td>  -82.759</td> <td>  -68.431</td>\n",
       "</tr>\n",
       "<tr>\n",
       "  <th>C(Influencer)[T.Mega]</th>  <td>    2.4948</td> <td>    3.462</td> <td>    0.721</td> <td> 0.471</td> <td>   -4.305</td> <td>    9.295</td>\n",
       "</tr>\n",
       "<tr>\n",
       "  <th>C(Influencer)[T.Micro]</th> <td>    2.9391</td> <td>    3.378</td> <td>    0.870</td> <td> 0.385</td> <td>   -3.695</td> <td>    9.574</td>\n",
       "</tr>\n",
       "<tr>\n",
       "  <th>C(Influencer)[T.Nano]</th>  <td>    0.8015</td> <td>    3.346</td> <td>    0.240</td> <td> 0.811</td> <td>   -5.770</td> <td>    7.373</td>\n",
       "</tr>\n",
       "<tr>\n",
       "  <th>Radio</th>                  <td>    2.9735</td> <td>    0.235</td> <td>   12.644</td> <td> 0.000</td> <td>    2.512</td> <td>    3.435</td>\n",
       "</tr>\n",
       "<tr>\n",
       "  <th>Social_Media</th>           <td>   -0.1391</td> <td>    0.676</td> <td>   -0.206</td> <td> 0.837</td> <td>   -1.467</td> <td>    1.189</td>\n",
       "</tr>\n",
       "</table>\n",
       "<table class=\"simpletable\">\n",
       "<tr>\n",
       "  <th>Omnibus:</th>       <td>58.711</td> <th>  Durbin-Watson:     </th> <td>   1.874</td>\n",
       "</tr>\n",
       "<tr>\n",
       "  <th>Prob(Omnibus):</th> <td> 0.000</td> <th>  Jarque-Bera (JB):  </th> <td>  17.802</td>\n",
       "</tr>\n",
       "<tr>\n",
       "  <th>Skew:</th>          <td> 0.057</td> <th>  Prob(JB):          </th> <td>0.000136</td>\n",
       "</tr>\n",
       "<tr>\n",
       "  <th>Kurtosis:</th>      <td> 2.143</td> <th>  Cond. No.          </th> <td>    147.</td>\n",
       "</tr>\n",
       "</table><br/><br/>Notes:<br/>[1] Standard Errors assume that the covariance matrix of the errors is correctly specified."
      ],
      "text/plain": [
       "<class 'statsmodels.iolib.summary.Summary'>\n",
       "\"\"\"\n",
       "                            OLS Regression Results                            \n",
       "==============================================================================\n",
       "Dep. Variable:                  Sales   R-squared:                       0.904\n",
       "Model:                            OLS   Adj. R-squared:                  0.903\n",
       "Method:                 Least Squares   F-statistic:                     760.4\n",
       "Date:                Fri, 18 Nov 2022   Prob (F-statistic):          1.82e-282\n",
       "Time:                        23:19:19   Log-Likelihood:                -2713.4\n",
       "No. Observations:                 572   AIC:                             5443.\n",
       "Df Residuals:                     564   BIC:                             5478.\n",
       "Df Model:                           7                                         \n",
       "Covariance Type:            nonrobust                                         \n",
       "==========================================================================================\n",
       "                             coef    std err          t      P>|t|      [0.025      0.975]\n",
       "------------------------------------------------------------------------------------------\n",
       "Intercept                217.4784      6.584     33.031      0.000     204.546     230.411\n",
       "C(TV)[T.Low]            -154.5736      4.949    -31.231      0.000    -164.295    -144.852\n",
       "C(TV)[T.Medium]          -75.5947      3.647    -20.726      0.000     -82.759     -68.431\n",
       "C(Influencer)[T.Mega]      2.4948      3.462      0.721      0.471      -4.305       9.295\n",
       "C(Influencer)[T.Micro]     2.9391      3.378      0.870      0.385      -3.695       9.574\n",
       "C(Influencer)[T.Nano]      0.8015      3.346      0.240      0.811      -5.770       7.373\n",
       "Radio                      2.9735      0.235     12.644      0.000       2.512       3.435\n",
       "Social_Media              -0.1391      0.676     -0.206      0.837      -1.467       1.189\n",
       "==============================================================================\n",
       "Omnibus:                       58.711   Durbin-Watson:                   1.874\n",
       "Prob(Omnibus):                  0.000   Jarque-Bera (JB):               17.802\n",
       "Skew:                           0.057   Prob(JB):                     0.000136\n",
       "Kurtosis:                       2.143   Cond. No.                         147.\n",
       "==============================================================================\n",
       "\n",
       "Notes:\n",
       "[1] Standard Errors assume that the covariance matrix of the errors is correctly specified.\n",
       "\"\"\""
      ]
     },
     "execution_count": 37,
     "metadata": {},
     "output_type": "execute_result"
    }
   ],
   "source": [
    "# Display the model results summary\n",
    "\n",
    "model.summary() \n",
    "\n"
   ]
  },
  {
   "cell_type": "markdown",
   "id": "bc293d6c-0e33-4613-8b4c-c6d27b48d903",
   "metadata": {
    "id": "bc293d6c-0e33-4613-8b4c-c6d27b48d903"
   },
   "source": [
    "#### **QUESTION 10: What are the model coefficients?**\n",
    "\n"
   ]
  },
  {
   "cell_type": "markdown",
   "id": "o_D7L39q5Xv4",
   "metadata": {
    "id": "o_D7L39q5Xv4"
   },
   "source": [
    "- Intercept = 217.4784\n",
    "- TV = -154.5736(low), -75.5947(medium)\n",
    "- Radio = 2.9735\n",
    "- Social_media = -0.1391\t\n",
    "- Influencer = 2.4948 (Mega), 2.9391 (Micro), 0.8015(Nano)"
   ]
  },
  {
   "cell_type": "markdown",
   "id": "9826fb29-2740-4f19-b4dc-326cf3de2ca8",
   "metadata": {
    "id": "9826fb29-2740-4f19-b4dc-326cf3de2ca8"
   },
   "source": [
    "#### **QUESTION 11: How would you write the relationship between `Sales` and the independent variables as a linear equation?**\n",
    "\n"
   ]
  },
  {
   "cell_type": "markdown",
   "id": "8_g0Yl1z5Zj5",
   "metadata": {
    "id": "8_g0Yl1z5Zj5"
   },
   "source": [
    "Sales = 217.4784 -75.5947 TV + 2.9735 Radio - 0.1391 Social_media + 2.4948 Influencer"
   ]
  },
  {
   "cell_type": "markdown",
   "id": "8ca575f3-cbba-4a0a-99d0-b8bf82ea49e4",
   "metadata": {
    "id": "8ca575f3-cbba-4a0a-99d0-b8bf82ea49e4",
    "jp-MarkdownHeadingCollapsed": true,
    "tags": []
   },
   "source": [
    "#### **QUESTION 12: What is your intepretation of the coefficient estimates? Are the coefficients statistically significant?**\n",
    "\n"
   ]
  },
  {
   "cell_type": "markdown",
   "id": "u8ARb9Dh5asn",
   "metadata": {
    "id": "u8ARb9Dh5asn"
   },
   "source": [
    "- Radio: if radio is increased by 1 unit, sales will increase by 2.9735, the p-value 0.000 is less than 0.05. therefore it is statistically significant.\n",
    "- TV: If TV increases by 1 unit, Sales will decrease by 75.5947, the p-value 0.000 is less than 0.05. therefore it is statistically significant.\n",
    "- Social_media: if Social_media increses by 1 unit, Sales will reduce by 0.1391,  the p-value 0.837 is greater than 0.05. therefore it is not statistically significant \n",
    "- Influencer: if Influencer increases by 1 unit, Sales will increase by 2.4948, the p-values are greater than 0.05, therefore, the result is not statistically significant."
   ]
  },
  {
   "cell_type": "markdown",
   "id": "4affd7d9-656b-4c8a-adaa-69e4e26d13bd",
   "metadata": {
    "id": "4affd7d9-656b-4c8a-adaa-69e4e26d13bd"
   },
   "source": [
    "#### **QUESTION 13: Why is it important to interpret the beta coefficients?**\n",
    "\n"
   ]
  },
  {
   "cell_type": "markdown",
   "id": "24w7tW-c5kDu",
   "metadata": {
    "id": "24w7tW-c5kDu"
   },
   "source": [
    "The beta coeficients shows which of the independent variables has the most influene on the dependent variable"
   ]
  },
  {
   "cell_type": "markdown",
   "id": "9aa744ec-f277-4110-b237-6d278f773e15",
   "metadata": {
    "id": "9aa744ec-f277-4110-b237-6d278f773e15",
    "tags": []
   },
   "source": [
    "#### **QUESTION 14: What are you interested in exploring based on your model?**\n",
    "\n"
   ]
  },
  {
   "cell_type": "markdown",
   "id": "unDgab5O5kc1",
   "metadata": {
    "id": "unDgab5O5kc1"
   },
   "source": [
    "i am interested in knowing the the method of advert that will best increase Sales"
   ]
  },
  {
   "cell_type": "markdown",
   "id": "e6066524-9394-44d0-8da1-6b72f0dc5f10",
   "metadata": {
    "id": "e6066524-9394-44d0-8da1-6b72f0dc5f10",
    "tags": []
   },
   "source": [
    "#### **QUESTION 15: Do you think your model could be improved? Why or why not? How?**\n",
    "\n",
    "\n"
   ]
  },
  {
   "cell_type": "markdown",
   "id": "kHOKq-eg5k27",
   "metadata": {
    "id": "kHOKq-eg5k27"
   },
   "source": [
    "The model could be improved as some of the independent variables have p-values greater than 0.05 "
   ]
  },
  {
   "cell_type": "markdown",
   "id": "c626bd63-c4d3-4925-86e3-f03113021740",
   "metadata": {
    "id": "c626bd63-c4d3-4925-86e3-f03113021740"
   },
   "source": [
    "## Conclusion"
   ]
  },
  {
   "cell_type": "markdown",
   "id": "f3d533b2-4491-449d-be3d-7dd5144fa710",
   "metadata": {
    "id": "f3d533b2-4491-449d-be3d-7dd5144fa710"
   },
   "source": [
    "**What are the key takeaways from this lab?**\n",
    "- Sales can be increased by advertising\n",
    "\n",
    "**What results can be presented from this lab?**\n",
    "- Radio has the greatest influence on Sales among the independent variables\n",
    "\n",
    "**How would you frame your findings to external stakeholders?**\n",
    "- Based on the results obtained, more investments should be made in Radio advert as it drives more sales than the others."
   ]
  },
  {
   "cell_type": "markdown",
   "id": "88b01fcc-e016-4cd5-aedc-a71e51276fe2",
   "metadata": {
    "id": "88b01fcc-e016-4cd5-aedc-a71e51276fe2"
   },
   "source": [
    "#### **References**\n",
    "\n",
    "Saragih, H.S. *Dummy Marketing and Sales Data*. https://www.kaggle.com/datasets/harrimansaragih/dummy-advertising-and-sales-data."
   ]
  }
 ],
 "metadata": {
  "colab": {
   "collapsed_sections": [],
   "provenance": [],
   "toc_visible": true
  },
  "kernelspec": {
   "display_name": "Python 3 (ipykernel)",
   "language": "python",
   "name": "python3"
  },
  "language_info": {
   "codemirror_mode": {
    "name": "ipython",
    "version": 3
   },
   "file_extension": ".py",
   "mimetype": "text/x-python",
   "name": "python",
   "nbconvert_exporter": "python",
   "pygments_lexer": "ipython3",
   "version": "3.9.12"
  }
 },
 "nbformat": 4,
 "nbformat_minor": 5
}
